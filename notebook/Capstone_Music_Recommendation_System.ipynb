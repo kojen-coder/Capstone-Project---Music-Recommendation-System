{
 "cells": [
  {
   "cell_type": "markdown",
   "metadata": {
    "id": "90rquXRtBfq7"
   },
   "source": [
    "# **Capstone Project: Music Recommendation System**\n",
    "\n",
    "## **Context**\n",
    "----------------\n",
    "Spotify is one such audio content provider with a huge market base across the world. With the ever-increasing volume of songs becoming available on the Internet, searching for songs of interest has become a tedious task in itself. However, Spotify has grown significantly in the market because of its ability to recommend the ‘best’ next song to each and every customer based on a huge preference database gathered over time - millions of customers and billions of songs. This is done by using smart recommendation systems that can recommend songs based on users’ likes/dislikes.\n",
    "\n",
    "----------------\n",
    "## **Objective**\n",
    "----------------\n",
    "Build a recommendation system to propose the top 10 songs for a user based on the likelihood of listening to those songs.\n",
    "\n",
    "----------------\n",
    "## **Dataset**\n",
    "----------------\n",
    "**song_data**\n",
    "- song_id: A unique id given to every song\n",
    "- title: Title of the song\n",
    "- Release: Name of the released album\n",
    "- Artist_name: Name of the artist\n",
    "- year: Year of release\n",
    "\n",
    "**count_data**\n",
    "- user _id: A unique id given to the user\n",
    "- song_id: A unique id given to the song\n",
    "- play_count: Number of times the song was played"
   ]
  },
  {
   "cell_type": "markdown",
   "metadata": {
    "id": "GE_jyAWH_IG2"
   },
   "source": [
    "## **Importing the necessary libraries and overview of the dataset**"
   ]
  },
  {
   "cell_type": "code",
   "execution_count": null,
   "metadata": {
    "id": "enpPQef57JMJ"
   },
   "outputs": [],
   "source": [
    "import warnings                                 # Used to ignore the warning given as output of the code\n",
    "warnings.filterwarnings('ignore')\n",
    "\n",
    "import numpy as np                              # Basic libraries of python for numeric and dataframe computations\n",
    "import pandas as pd\n",
    "\n",
    "import matplotlib.pyplot as plt                 # Basic library for data visualization\n",
    "import seaborn as sns                           # Slightly advanced library for data visualization\n",
    "\n",
    "from collections import defaultdict             # A dictionary output that does not raise a key error\n",
    "\n",
    "from sklearn.metrics import mean_squared_error  # A performance metrics in sklearn"
   ]
  },
  {
   "cell_type": "code",
   "execution_count": null,
   "metadata": {},
   "outputs": [],
   "source": [
    "import os\n",
    "import sys\n",
    "module_path = os.path.abspath(os.path.join('../'))\n",
    "if module_path not in sys.path:\n",
    "    sys.path.append(module_path)\n",
    "\n",
    "import utility.PlotlyObject as plot\n",
    "\n",
    "from plotly.offline import download_plotlyjs, init_notebook_mode, iplot\n",
    "init_notebook_mode()\n",
    "import plotly.graph_objs as go"
   ]
  },
  {
   "cell_type": "markdown",
   "metadata": {
    "id": "HtFU_GKK_MP3"
   },
   "source": [
    "### **Loading the song data**"
   ]
  },
  {
   "cell_type": "code",
   "execution_count": null,
   "metadata": {},
   "outputs": [],
   "source": [
    "file_path = \"/Users/mac/PycharmProjects/Capstone-Project---Music-Recommendation-System/csv/\""
   ]
  },
  {
   "cell_type": "code",
   "execution_count": null,
   "metadata": {
    "colab": {
     "base_uri": "https://localhost:8080/",
     "height": 206
    },
    "id": "-z0ml7-M7LuD",
    "outputId": "a772ac2b-51f7-42e6-9da9-9fd717c5ec0f"
   },
   "outputs": [],
   "source": [
    "# Import the dataset\n",
    "\n",
    "song_df = pd.read_csv(f'{file_path}song_data.csv') # There are no headers in the data file\n",
    "song_df.head() #Some data in the year are 0. We should drop them."
   ]
  },
  {
   "cell_type": "code",
   "execution_count": null,
   "metadata": {
    "colab": {
     "base_uri": "https://localhost:8080/",
     "height": 206
    },
    "id": "R0YLXAh-hqPb",
    "outputId": "ea3bef40-7849-4091-e55d-39c4deaf061e"
   },
   "outputs": [],
   "source": [
    "song_df.tail() #Some data in the year are 0. We should drop them."
   ]
  },
  {
   "cell_type": "code",
   "execution_count": null,
   "metadata": {
    "colab": {
     "base_uri": "https://localhost:8080/"
    },
    "id": "Hj_RN9NQhJOh",
    "outputId": "bbea942f-91e9-4626-e4ae-f48dc3340167"
   },
   "outputs": [],
   "source": [
    "song_df.isna().sum()  #title column has 15 rows of null values. release column has 5 rows of null values. We should drop them as well."
   ]
  },
  {
   "cell_type": "code",
   "execution_count": null,
   "metadata": {
    "colab": {
     "base_uri": "https://localhost:8080/"
    },
    "id": "gauWiwwZhyF2",
    "outputId": "0f89e172-e427-4244-e92a-00dc14403742"
   },
   "outputs": [],
   "source": [
    "song_df.info() #Should the year column be 'int64'?"
   ]
  },
  {
   "cell_type": "markdown",
   "metadata": {
    "id": "BLrTf60kqtb6"
   },
   "source": [
    "**Observations**\n",
    "- title column has 15 rows of null values. release column has 5 rows of null values. We should drop them.\n",
    "- Some data in the year column are 0. We should drop them as well."
   ]
  },
  {
   "cell_type": "markdown",
   "metadata": {
    "id": "Ec4PGDzcp1sw"
   },
   "source": [
    "### **Remove the null values in the song data**"
   ]
  },
  {
   "cell_type": "code",
   "execution_count": null,
   "metadata": {
    "colab": {
     "base_uri": "https://localhost:8080/"
    },
    "id": "dJr9yif-jWHE",
    "outputId": "b126f621-d91f-46e3-b28c-ba53ed33fa4c"
   },
   "outputs": [],
   "source": [
    "song_df2 = song_df.dropna()\n",
    "song_df2.isna().sum() #remove all null values. Check if they are all removed."
   ]
  },
  {
   "cell_type": "code",
   "execution_count": null,
   "metadata": {},
   "outputs": [],
   "source": [
    "song_df2[\"normalized_year\"] = song_df2['year'].apply(lambda x: \"NA\" if x == 0 else x) #Remove year == 0\n",
    "year_count = song_df2['normalized_year'].value_counts().reset_index(name='count')#.sort_values(['index'])\n",
    "year_count_2 = year_count[year_count['index']!= \"NA\"].sort_values(['index'])\n",
    "\n",
    "#create bar plot for song count distribution in all years\n",
    "trace = plot.create_bar(year_count_2, \"index\", 'count', '', True)\n",
    "\n",
    "data = [trace]\n",
    "\n",
    "layout = go.Layout(\n",
    "    title=dict(\n",
    "            text=\"<b><br> Song count distribution across different years <b>\",\n",
    "            x=0.5,\n",
    "            xanchor='center'),\n",
    "    xaxis=dict(\n",
    "        title='year',\n",
    "        showline=True\n",
    "    ),\n",
    "    yaxis=dict(\n",
    "        title='Song count',\n",
    "        showline=True\n",
    "    ))\n",
    "fig = go.Figure(data=data, layout=layout)\n",
    "fig.show()"
   ]
  },
  {
   "cell_type": "code",
   "execution_count": null,
   "metadata": {},
   "outputs": [],
   "source": [
    "#create line plot for song count distribution in all years\n",
    "\n",
    "trace = plot.create_scatter_trace(year_count_2, \"index\", 'count', '', True)\n",
    "\n",
    "data = [trace]\n",
    "\n",
    "layout = go.Layout(\n",
    "    title=dict(\n",
    "            text=\"<b><br> Song count distribution across different years <b>\",\n",
    "            x=0.5,\n",
    "            xanchor='center'),\n",
    "    xaxis=dict(\n",
    "        title='year',\n",
    "        showline=True\n",
    "    ),\n",
    "    yaxis=dict(\n",
    "        title='Song count',\n",
    "        showline=True\n",
    "    ))\n",
    "fig = go.Figure(data=data, layout=layout)\n",
    "fig.show()"
   ]
  },
  {
   "cell_type": "code",
   "execution_count": null,
   "metadata": {},
   "outputs": [],
   "source": [
    "song_df2.year.describe()"
   ]
  },
  {
   "cell_type": "code",
   "execution_count": null,
   "metadata": {
    "colab": {
     "base_uri": "https://localhost:8080/"
    },
    "id": "konGBfMUh9RF",
    "outputId": "ae54463b-c2a5-47a9-97c3-f8bd18566506"
   },
   "outputs": [],
   "source": [
    "# song_df2['year'].apply(lambda x: \"NA\" if x == 0 else x) #Remove year == 0"
   ]
  },
  {
   "cell_type": "markdown",
   "metadata": {
    "colab": {
     "base_uri": "https://localhost:8080/"
    },
    "id": "FQyQ1RXLjnH_",
    "outputId": "62afc04d-da18-40f9-9273-be44f1284a05"
   },
   "source": [
    "song_df2 = song_df2.drop(song_df2[song_df2.year == 0].index) #remove the values in year column = 0 \n",
    "song_df2.shape #The data has only 515576 rows left that are not either null or in the year 0.\n",
    "\n",
    "son"
   ]
  },
  {
   "cell_type": "code",
   "execution_count": null,
   "metadata": {
    "colab": {
     "base_uri": "https://localhost:8080/",
     "height": 206
    },
    "id": "i7TnnDMokw8M",
    "outputId": "a7a54969-7a6a-45c8-e9a6-cded8f3a366e"
   },
   "outputs": [],
   "source": [
    "song_df2.tail() #Checked the head and tail. There is no year of 0."
   ]
  },
  {
   "cell_type": "code",
   "execution_count": null,
   "metadata": {
    "colab": {
     "base_uri": "https://localhost:8080/"
    },
    "id": "NHflo9k2m0mc",
    "outputId": "9ae8bf44-fb31-4364-b299-e590004257e4"
   },
   "outputs": [],
   "source": [
    "#Maybe there are 0 in other columns too? #Should we manually check if there is a title or release is called 0?\n",
    "(song_df2.release == '0').value_counts() #0 is a string not an integer"
   ]
  },
  {
   "cell_type": "code",
   "execution_count": null,
   "metadata": {
    "colab": {
     "base_uri": "https://localhost:8080/",
     "height": 363
    },
    "id": "BqUe3IsWoc7M",
    "outputId": "40926b73-f863-46ba-e250-1190c3213fcc"
   },
   "outputs": [],
   "source": [
    "#Check the relase = '0'. Checked the internet and Spotify artist profile page. The artisit does have a album called '0', and the songs title are correct even though there are called \"***\" and \"**\".\n",
    "song_df2[song_df2.release == '0'].reset_index()\n",
    "\n",
    "#Therefore, we do not remove these rows."
   ]
  },
  {
   "cell_type": "markdown",
   "metadata": {
    "id": "uCIG3zFEqWPS"
   },
   "source": [
    "**Observations**\n",
    "- The song data now has only 515576 rows left that are not either null or year '0'."
   ]
  },
  {
   "cell_type": "markdown",
   "metadata": {
    "id": "0iFzXh6MqJJy"
   },
   "source": [
    "### **Load the count data**"
   ]
  },
  {
   "cell_type": "code",
   "execution_count": null,
   "metadata": {
    "colab": {
     "base_uri": "https://localhost:8080/",
     "height": 206
    },
    "id": "Ox84Z67z8BzH",
    "outputId": "f528c6a7-064b-44cf-ee71-637a779dd336"
   },
   "outputs": [],
   "source": [
    "count_df = pd.read_csv(f'{file_path}count_data.csv', index_col = 0)\n",
    "count_df.head()"
   ]
  },
  {
   "cell_type": "code",
   "execution_count": null,
   "metadata": {
    "colab": {
     "base_uri": "https://localhost:8080/",
     "height": 206
    },
    "id": "8096wMpgrAZ5",
    "outputId": "29f1815d-072b-4e90-eb38-db77c76565a9"
   },
   "outputs": [],
   "source": [
    "count_df.tail()"
   ]
  },
  {
   "cell_type": "code",
   "execution_count": null,
   "metadata": {
    "colab": {
     "base_uri": "https://localhost:8080/"
    },
    "id": "mBkhLHJCheCE",
    "outputId": "d161cb49-4567-4aec-b0bb-3645d2657ac4"
   },
   "outputs": [],
   "source": [
    "count_df.isna().sum() #Checking if there are null values in the data set. There is no null value."
   ]
  },
  {
   "cell_type": "code",
   "execution_count": null,
   "metadata": {
    "colab": {
     "base_uri": "https://localhost:8080/"
    },
    "id": "08DwNxKxwE2W",
    "outputId": "094d1ad2-05fd-41d2-f79d-33a1664ce9c1"
   },
   "outputs": [],
   "source": [
    "count_df.shape #There are 2000000 rows and 4 columns in this data set. "
   ]
  },
  {
   "cell_type": "code",
   "execution_count": null,
   "metadata": {
    "colab": {
     "base_uri": "https://localhost:8080/"
    },
    "id": "py5wRBlvvd4p",
    "outputId": "7d6fbce8-f0a8-445e-f993-2d74b47826c9"
   },
   "outputs": [],
   "source": [
    "count_df.info() "
   ]
  },
  {
   "cell_type": "code",
   "execution_count": null,
   "metadata": {
    "colab": {
     "base_uri": "https://localhost:8080/",
     "height": 424
    },
    "id": "N1xtRbI5gAZh",
    "outputId": "74e07fa0-79a9-436a-bd4d-5a0f1746dbcc"
   },
   "outputs": [],
   "source": [
    "df = pd.merge(count_df, song_df2, on = 'song_id', how = 'inner')\n",
    "df"
   ]
  },
  {
   "cell_type": "code",
   "execution_count": null,
   "metadata": {
    "colab": {
     "base_uri": "https://localhost:8080/"
    },
    "id": "wZMsnwnB0wnu",
    "outputId": "62bcf293-c094-4c3f-9b5c-56f28a0b21ab"
   },
   "outputs": [],
   "source": [
    "df.info()"
   ]
  },
  {
   "cell_type": "markdown",
   "metadata": {
    "id": "j-WEefplDasc"
   },
   "source": [
    "- rank-based learning\n",
    "- content-based learning?\n",
    "- user-user collaborative learning\n",
    "- item-item collaborative learning\n",
    "- model based collaborative learning\n",
    "- clustering based?"
   ]
  },
  {
   "cell_type": "code",
   "execution_count": null,
   "metadata": {
    "colab": {
     "base_uri": "https://localhost:8080/"
    },
    "id": "9Mp-H87y8Rdu",
    "outputId": "8f4cc587-32bf-4d78-d03c-75c318e5ef2d"
   },
   "outputs": [],
   "source": []
  },
  {
   "cell_type": "code",
   "execution_count": null,
   "metadata": {
    "colab": {
     "base_uri": "https://localhost:8080/",
     "height": 171
    },
    "id": "cjpuRtXoBKef",
    "outputId": "63bb32a4-ae35-46bd-cc7d-3bb17d90f81c"
   },
   "outputs": [],
   "source": [
    "df2.shape"
   ]
  },
  {
   "cell_type": "code",
   "execution_count": null,
   "metadata": {
    "colab": {
     "base_uri": "https://localhost:8080/"
    },
    "id": "xhQMNkkOBOZl",
    "outputId": "1b5f42d0-c79b-49c7-af2b-19609ac0698f"
   },
   "outputs": [],
   "source": [
    "song_df2['year'].unique()"
   ]
  },
  {
   "cell_type": "code",
   "execution_count": null,
   "metadata": {
    "id": "8Mlf2JeEgQ6q"
   },
   "outputs": [],
   "source": []
  }
 ],
 "metadata": {
  "colab": {
   "name": "Capstone_Music Recommendation System.ipynb",
   "provenance": []
  },
  "kernelspec": {
   "display_name": "nyc_taxi",
   "language": "python",
   "name": "nyc_taxi"
  },
  "language_info": {
   "codemirror_mode": {
    "name": "ipython",
    "version": 3
   },
   "file_extension": ".py",
   "mimetype": "text/x-python",
   "name": "python",
   "nbconvert_exporter": "python",
   "pygments_lexer": "ipython3",
   "version": "3.8.12"
  }
 },
 "nbformat": 4,
 "nbformat_minor": 1
}